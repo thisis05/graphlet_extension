{
 "cells": [
  {
   "cell_type": "code",
   "execution_count": 33,
   "metadata": {},
   "outputs": [],
   "source": [
    "import numpy as np\n",
    "\n",
    "def read_mtx_file(file_path):\n",
    "    with open(file_path, 'r') as f:\n",
    "        lines = f.readlines()\n",
    "        \n",
    "    header = [line for line in lines if line.startswith('%')]\n",
    "    lines = [line for line in lines if not line.startswith('%')]\n",
    "    \n",
    "    size_info = lines.pop(0).split()\n",
    "    n, _, m = map(int, size_info)\n",
    "    \n",
    "    adj_matrix = np.zeros((n, n), dtype=int)\n",
    "    adj_vector = [[] for _ in range(n)]\n",
    "    \n",
    "    for line in lines:\n",
    "        u, v = map(int, line.split())\n",
    "        u -= 1\n",
    "        v -= 1\n",
    "        adj_matrix[u][v] = 1\n",
    "        adj_matrix[v][u] = 1\n",
    "        adj_vector[u].append(v)\n",
    "        adj_vector[v].append(u)\n",
    "\n",
    "    # distance matrix 초기화 (2로 초기화, 직접 연결되지 않은 경우)\n",
    "    dist_matrix = np.full((n, n), 0, dtype=int)\n",
    "\n",
    "    # adjacency matrix를 복사하여 직접 연결된 노드의 거리 1로 설정\n",
    "    dist_matrix[adj_matrix == 1] = 1\n",
    "\n",
    "    # 직접 연결된 노드의 거리는 0으로 설정\n",
    "    np.fill_diagonal(dist_matrix, 0)\n",
    "\n",
    "    # 거리 계산\n",
    "    for start_node in range(n):\n",
    "        for second_node in adj_vector[start_node]:\n",
    "            for final_node in adj_vector[second_node]:\n",
    "                if start_node != final_node and dist_matrix[start_node][final_node] != 1:\n",
    "                    dist_matrix[start_node][final_node] = 2\n",
    "                    adj_matrix[start_node][final_node] = 1\n",
    "\n",
    "    return dist_matrix, adj_matrix\n",
    "# 파일 경로\n",
    "filename = './datasets/bio-diseasome.mtx'\n",
    "\n",
    "# 그래프 읽기 및 행렬 계산\n",
    "dist_matrix, adj_matrix = read_mtx_file(filename)\n"
   ]
  },
  {
   "cell_type": "code",
   "execution_count": 34,
   "metadata": {},
   "outputs": [
    {
     "data": {
      "text/plain": [
       "array([[0, 0, 0, ..., 0, 0, 0],\n",
       "       [0, 0, 0, ..., 0, 0, 0],\n",
       "       [0, 0, 0, ..., 0, 0, 0],\n",
       "       ...,\n",
       "       [0, 0, 0, ..., 0, 0, 0],\n",
       "       [0, 0, 0, ..., 0, 0, 0],\n",
       "       [0, 0, 0, ..., 0, 0, 0]])"
      ]
     },
     "execution_count": 34,
     "metadata": {},
     "output_type": "execute_result"
    }
   ],
   "source": [
    "dist_matrix"
   ]
  },
  {
   "cell_type": "code",
   "execution_count": 35,
   "metadata": {},
   "outputs": [],
   "source": [
    "def getdist(u, v, w, r):\n",
    "    print(\"u - v :\", dist_matrix[u][v])\n",
    "    print(\"u - w :\", dist_matrix[u][w])\n",
    "    print(\"v - r :\", dist_matrix[v][r])\n",
    "    print(\"u - r :\", dist_matrix[u][r])\n",
    "    print(\"v - w :\", dist_matrix[v][w])\n",
    "    print(\"w - r :\", dist_matrix[w][r])\n"
   ]
  },
  {
   "cell_type": "code",
   "execution_count": 42,
   "metadata": {},
   "outputs": [
    {
     "name": "stdout",
     "output_type": "stream",
     "text": [
      "u - v : 1\n",
      "u - w : 2\n",
      "v - r : 2\n",
      "u - r : 2\n",
      "v - w : 0\n",
      "w - r : 2\n"
     ]
    }
   ],
   "source": [
    "getdist(168, 297, 503, 185)"
   ]
  },
  {
   "cell_type": "code",
   "execution_count": 43,
   "metadata": {},
   "outputs": [],
   "source": [
    "def write_mtx_file(file_path, dist_matrix):\n",
    "    n = dist_matrix.shape[0]\n",
    "    with open(file_path, 'w') as f:\n",
    "        f.write(\"%%MatrixMarket matrix coordinate integer general\\n\")\n",
    "        f.write(f\"{n} {n} {np.sum(dist_matrix == 2)}\\n\")\n",
    "        for i in range(n):\n",
    "            for j in range(i+1, n):  # 상삼각행렬만 체크 (중복 방지)\n",
    "                if dist_matrix[i, j] == 2:\n",
    "                    f.write(f\"{i+1} {j+1} 1\\n\")\n",
    "\n",
    "\n",
    "# 그래프 읽기 및 행렬 계산\n",
    "dist_matrix, adj_matrix = read_mtx_file(filename)\n",
    "\n",
    "# 거리가 2인 간선들만 포함하는 .mtx 파일 작성\n",
    "output_filename = './datasets/distance_2_only.mtx'\n",
    "write_mtx_file(output_filename, dist_matrix)"
   ]
  },
  {
   "cell_type": "code",
   "execution_count": null,
   "metadata": {},
   "outputs": [],
   "source": [
    "\"Tri1\" : 28841,\n",
    "\"Tri2\" : 16836,\n",
    "\"Tri3\" : 5398,\n",
    "\"Tri4\" : 1360,"
   ]
  }
 ],
 "metadata": {
  "kernelspec": {
   "display_name": "base",
   "language": "python",
   "name": "python3"
  },
  "language_info": {
   "codemirror_mode": {
    "name": "ipython",
    "version": 3
   },
   "file_extension": ".py",
   "mimetype": "text/x-python",
   "name": "python",
   "nbconvert_exporter": "python",
   "pygments_lexer": "ipython3",
   "version": "3.11.7"
  }
 },
 "nbformat": 4,
 "nbformat_minor": 2
}
