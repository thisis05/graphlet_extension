{
 "cells": [
  {
   "cell_type": "code",
   "execution_count": 2,
   "metadata": {},
   "outputs": [
    {
     "name": "stdout",
     "output_type": "stream",
     "text": [
      "Conversion complete. MTX file saved as ./bio-grid-plant.mtx\n"
     ]
    }
   ],
   "source": [
    "def read_edges_file(file_path):\n",
    "    edges = []\n",
    "    with open(file_path, 'r') as file:\n",
    "        for line in file:\n",
    "            if line.strip() and not line.startswith('%'):\n",
    "                u, v = map(int, line.split(','))\n",
    "                edges.append((u + 1, v + 1))  # 모든 숫자 +1\n",
    "    return edges\n",
    "\n",
    "def write_mtx_file(edges, output_path, num_nodes, num_edges):\n",
    "    with open(output_path, 'w') as file:\n",
    "        file.write('%MatrixMarket matrix coordinate pattern symmetric\\n')\n",
    "        file.write(f'{num_nodes} {num_nodes} {num_edges}\\n')\n",
    "        for u, v in edges:\n",
    "            file.write(f'{u} {v}\\n')\n",
    "\n",
    "# 파일 경로 설정\n",
    "input_file_path = './bio-grid-plant.edges'\n",
    "output_file_path = './bio-grid-plant.mtx'\n",
    "\n",
    "# 파일 읽기 및 변환\n",
    "edges = read_edges_file(input_file_path)\n",
    "num_nodes = max(max(u, v) for u, v in edges)\n",
    "num_edges = len(edges)\n",
    "write_mtx_file(edges, output_file_path, num_nodes, num_edges)\n",
    "\n",
    "print(f'Conversion complete. MTX file saved as {output_file_path}')"
   ]
  },
  {
   "cell_type": "code",
   "execution_count": null,
   "metadata": {},
   "outputs": [],
   "source": []
  }
 ],
 "metadata": {
  "kernelspec": {
   "display_name": "base",
   "language": "python",
   "name": "python3"
  },
  "language_info": {
   "codemirror_mode": {
    "name": "ipython",
    "version": 3
   },
   "file_extension": ".py",
   "mimetype": "text/x-python",
   "name": "python",
   "nbconvert_exporter": "python",
   "pygments_lexer": "ipython3",
   "version": "3.11.7"
  }
 },
 "nbformat": 4,
 "nbformat_minor": 2
}
